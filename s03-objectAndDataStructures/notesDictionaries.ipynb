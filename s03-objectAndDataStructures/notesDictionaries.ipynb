{
 "cells": [
  {
   "cell_type": "code",
   "execution_count": 23,
   "metadata": {},
   "outputs": [
    {
     "name": "stdout",
     "output_type": "stream",
     "text": [
      "*********************23. Dictionaries\n",
      "value1\n"
     ]
    }
   ],
   "source": [
    "print('*********************23. Dictionaries')\n",
    "# Make a dictionary with {} and : to signify a key and a value\n",
    "my_dict = {'key1':'value1','key2':'value2'}\n",
    "key1= my_dict['key1']\n",
    "print(key1)\n"
   ]
  },
  {
   "cell_type": "code",
   "execution_count": 24,
   "metadata": {},
   "outputs": [
    {
     "name": "stdout",
     "output_type": "stream",
     "text": [
      "the apple price is:  29 and the banana 50\n"
     ]
    }
   ],
   "source": [
    "prices = {'apple':29, 'orange': 2.45}\n",
    "applePrice = prices['apple']\n",
    "# Create a new key through assignment\n",
    "prices['banana'] = '50'\n",
    "bananaPrice = prices['banana']\n",
    "\n",
    "print('the apple price is: ',applePrice, 'and the banana', bananaPrice)\n"
   ]
  },
  {
   "cell_type": "code",
   "execution_count": 25,
   "metadata": {},
   "outputs": [
    {
     "name": "stdout",
     "output_type": "stream",
     "text": [
      "this are the keys:  dict_keys(['apple', 'orange', 'banana']) and these the values:  dict_values([29, 2.45, '50'])\n"
     ]
    }
   ],
   "source": [
    "print('this are the keys: ', prices.keys(), 'and these the values: ', prices.values(), 'and this the items', prices.items())"
   ]
  }
 ],
 "metadata": {
  "kernelspec": {
   "display_name": "Python 3.10.5 64-bit",
   "language": "python",
   "name": "python3"
  },
  "language_info": {
   "codemirror_mode": {
    "name": "ipython",
    "version": 3
   },
   "file_extension": ".py",
   "mimetype": "text/x-python",
   "name": "python",
   "nbconvert_exporter": "python",
   "pygments_lexer": "ipython3",
   "version": "3.10.5"
  },
  "orig_nbformat": 4,
  "vscode": {
   "interpreter": {
    "hash": "369f2c481f4da34e4445cda3fffd2e751bd1c4d706f27375911949ba6bb62e1c"
   }
  }
 },
 "nbformat": 4,
 "nbformat_minor": 2
}
