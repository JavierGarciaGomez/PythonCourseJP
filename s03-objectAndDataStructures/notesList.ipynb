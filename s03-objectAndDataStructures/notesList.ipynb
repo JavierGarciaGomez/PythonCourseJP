{
 "cells": [
  {
   "cell_type": "code",
   "execution_count": 10,
   "metadata": {},
   "outputs": [
    {
     "name": "stdout",
     "output_type": "stream",
     "text": [
      "*********************21. Lists\n",
      "[1, 2, 3] ['A string', 23, 100.232, 'o']\n",
      "My list is formed by: [1, 2, 3] and its lenght is 3\n",
      "['one', 'two', 'three', 4, 5]\n"
     ]
    }
   ],
   "source": [
    "print('*********************21. Lists')\n",
    "my_list = [1,2,3]\n",
    "my_list2 = ['A string',23,100.232,'o']\n",
    "print(my_list, my_list2)\n",
    "print(f\"My list is formed by: {my_list} and its lenght is {len(my_list)}\")\n",
    "print(['one','two','three',4,5])"
   ]
  },
  {
   "cell_type": "code",
   "execution_count": 11,
   "metadata": {},
   "outputs": [
    {
     "data": {
      "text/plain": [
       "[1, 2, 3]"
      ]
     },
     "execution_count": 11,
     "metadata": {},
     "output_type": "execute_result"
    }
   ],
   "source": [
    "# Create a new list\n",
    "list1 = [1,2,3]\n",
    "list1"
   ]
  },
  {
   "cell_type": "code",
   "execution_count": 12,
   "metadata": {},
   "outputs": [
    {
     "data": {
      "text/plain": [
       "[1, 2, 3, 'append me!']"
      ]
     },
     "execution_count": 12,
     "metadata": {},
     "output_type": "execute_result"
    }
   ],
   "source": [
    "# Append\n",
    "list1.append('append me!')\n",
    "list1"
   ]
  },
  {
   "cell_type": "code",
   "execution_count": 13,
   "metadata": {},
   "outputs": [
    {
     "data": {
      "text/plain": [
       "([2, 3, 'append me!'], 1)"
      ]
     },
     "execution_count": 13,
     "metadata": {},
     "output_type": "execute_result"
    }
   ],
   "source": [
    "popped = list1.pop(0)\n",
    "list1, popped\n"
   ]
  },
  {
   "cell_type": "code",
   "execution_count": 14,
   "metadata": {},
   "outputs": [
    {
     "name": "stdout",
     "output_type": "stream",
     "text": [
      "['a', 'e', 'x', 'b', 'c']\n",
      "['c', 'b', 'x', 'e', 'a']\n",
      "['a', 'b', 'c', 'e', 'x']\n",
      "['x', 'e', 'c', 'b', 'a']\n"
     ]
    }
   ],
   "source": [
    "new_list = ['a','e','x','b','c']\n",
    "print(new_list)\n",
    "new_list.reverse()\n",
    "print(new_list)\n",
    "new_list.sort()\n",
    "print(new_list)\n",
    "new_list.reverse()\n",
    "print(new_list)"
   ]
  },
  {
   "cell_type": "code",
   "execution_count": 15,
   "metadata": {},
   "outputs": [
    {
     "data": {
      "text/plain": [
       "['e', 'c', 'b', 'a']"
      ]
     },
     "execution_count": 15,
     "metadata": {},
     "output_type": "execute_result"
    }
   ],
   "source": [
    "new_list[1:]"
   ]
  },
  {
   "cell_type": "code",
   "execution_count": 16,
   "metadata": {},
   "outputs": [
    {
     "name": "stdout",
     "output_type": "stream",
     "text": [
      "[-1, 0, 1, 1, 2, 3]\n"
     ]
    }
   ],
   "source": [
    "secondList= [1, 2, 3]\n",
    "firstList = [-1,0,1]\n",
    "newList = firstList+secondList\n",
    "print(newList)"
   ]
  },
  {
   "cell_type": "code",
   "execution_count": 17,
   "metadata": {},
   "outputs": [
    {
     "name": "stdout",
     "output_type": "stream",
     "text": [
      "['CHANGEDELEMENT', 0, 1, 1, 2, 3]\n"
     ]
    }
   ],
   "source": [
    "newList[0]='changedElement'.upper()\n",
    "print(newList)"
   ]
  }
 ],
 "metadata": {
  "kernelspec": {
   "display_name": "Python 3.10.5 64-bit",
   "language": "python",
   "name": "python3"
  },
  "language_info": {
   "codemirror_mode": {
    "name": "ipython",
    "version": 3
   },
   "file_extension": ".py",
   "mimetype": "text/x-python",
   "name": "python",
   "nbconvert_exporter": "python",
   "pygments_lexer": "ipython3",
   "version": "3.10.5"
  },
  "orig_nbformat": 4,
  "vscode": {
   "interpreter": {
    "hash": "369f2c481f4da34e4445cda3fffd2e751bd1c4d706f27375911949ba6bb62e1c"
   }
  }
 },
 "nbformat": 4,
 "nbformat_minor": 2
}
